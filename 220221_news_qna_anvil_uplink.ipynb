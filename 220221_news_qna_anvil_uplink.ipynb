{
 "cells": [
  {
   "cell_type": "code",
   "execution_count": 8,
   "id": "0b3c4942",
   "metadata": {},
   "outputs": [],
   "source": [
    "!conda install pytorch torchvision torchaudio cudatoolkit=11.3 -c pytorch --yes\n",
    "!pip install transformers\n",
    "!pip install feedparser==5.2.1 pygooglenews==0.1.2 newspaper3k==0.2.8\n",
    "!pip install anvil-uplink\n",
    "!pip install tensorflow"
   ]
  },
  {
   "cell_type": "code",
   "execution_count": null,
   "id": "af73c047",
   "metadata": {},
   "outputs": [],
   "source": [
    "import anvil.server\n",
    "from datetime import datetime\n",
    "from newspaper import Article\n",
    "from pygooglenews import GoogleNews\n",
    "import string"
   ]
  },
  {
   "cell_type": "code",
   "execution_count": null,
   "id": "81b4843a",
   "metadata": {},
   "outputs": [],
   "source": [
    "from transformers import AutoModelForQuestionAnswering, AutoTokenizer, pipeline\n",
    "\n",
    "qna = pipeline('question-answering', model='deepset/roberta-base-squad2', tokenizer='deepset/roberta-base-squad2')"
   ]
  },
  {
   "cell_type": "code",
   "execution_count": 2,
   "id": "c4855e2b",
   "metadata": {},
   "outputs": [
    {
     "name": "stdout",
     "output_type": "stream",
     "text": [
      "Connecting to wss://anvil.works/uplink\n",
      "Anvil websocket open\n",
      "Connected to \"Default environment\" as SERVER\n"
     ]
    }
   ],
   "source": [
    "anvil.server.connect('6US6FXVLUHXQMQTBHNZ5XZ3V-TUNB7K7SPLS2NVGN')"
   ]
  },
  {
   "cell_type": "code",
   "execution_count": 22,
   "id": "0f55bfad",
   "metadata": {
    "scrolled": true
   },
   "outputs": [
    {
     "name": "stdout",
     "output_type": "stream",
     "text": [
      "2022-02-24 14:05:17.215056\n",
      "Topic: Bitcoin | Question: When is a good time to buy Bitcoin?\n",
      "Number of articles referenced: 1\n",
      "\n",
      "Rank: 1\n",
      "Answer: weeks or a couple of months\n",
      "Likelihood: 0.1353\n",
      "\n",
      "Rank: 2\n",
      "Answer: “weeks or a couple of months\n",
      "Likelihood: 0.0624\n",
      "\n",
      "Rank: 3\n",
      "Answer: November\n",
      "Likelihood: 0.0384\n",
      "\n",
      "2022-02-24 14:05:50.170749\n",
      "Topic: lg energy solution | Question: What is happening?\n",
      "Number of articles referenced: 1\n",
      "\n",
      "Rank: 1\n",
      "Answer: digitally transform its entire global facilities into data-centric operations\n",
      "Likelihood: 0.1355\n",
      "\n",
      "Rank: 2\n",
      "Answer: the company continues its expansion\n",
      "Likelihood: 0.0866\n",
      "\n",
      "Rank: 3\n",
      "Answer: company continues its expansion\n",
      "Likelihood: 0.0749\n",
      "\n",
      "2022-02-24 14:07:05.957929\n",
      "Topic: Korean Presidential election | Question: Who is most likely to become the president?\n",
      "Number of articles referenced: 1\n",
      "\n",
      "Rank: 1\n",
      "Answer: Donald Trump\n",
      "Likelihood: 0.3478\n",
      "\n",
      "Rank: 2\n",
      "Answer: Yoon Suk Yeol\n",
      "Likelihood: 0.049\n",
      "\n",
      "Rank: 3\n",
      "Answer: Lee Jae-myung\n",
      "Likelihood: 0.0131\n",
      "\n",
      "2022-02-24 14:07:21.439491\n",
      "Topic: Korean Presidential election | Question: Who is most likely to become the president of korea?\n",
      "Number of articles referenced: 1\n",
      "\n",
      "Rank: 1\n",
      "Answer: Yoon Suk Yeol\n",
      "Likelihood: 0.5025\n",
      "\n",
      "Rank: 2\n",
      "Answer: Lee Jae-myung\n",
      "Likelihood: 0.0344\n",
      "\n",
      "Rank: 3\n",
      "Answer: Yoon Suk Yeol\n",
      "Likelihood: 0.0045\n",
      "\n",
      "2022-02-24 14:07:50.370818\n",
      "Topic: Korean Presidential election | Question: Who is most likely to become the president of korea?\n",
      "Number of articles referenced: 9\n",
      "\n",
      "Rank: 1\n",
      "Answer: Yoon Suk-yeol\n",
      "Likelihood: 0.9161\n",
      "\n",
      "Rank: 2\n",
      "Answer: Yoon Seok-youl\n",
      "Likelihood: 0.8286\n",
      "\n",
      "Rank: 3\n",
      "Answer: Moon Jae-in\n",
      "Likelihood: 0.7939\n",
      "\n"
     ]
    }
   ],
   "source": [
    "def gather_news(topic, when=\"1d\", num=10):\n",
    "    gn = GoogleNews()\n",
    "    news = gn.search(topic, when=when)\n",
    "    all_text = []\n",
    "    article_num=0\n",
    "    for i in range(num):\n",
    "        try:\n",
    "            url = news['entries'][i][\"links\"][0]['href']\n",
    "            article = Article(url)\n",
    "            article.download()\n",
    "            article.parse()\n",
    "            all_text.append(article.text)\n",
    "            article_num+=1\n",
    "        except:\n",
    "            pass\n",
    "    print(f\"Number of articles referenced: {article_num}\")\n",
    "    all_text = \",\".join(all_text)\n",
    "    \n",
    "    return all_text\n",
    "\n",
    "\n",
    "@anvil.server.callable\n",
    "def ask_qna(topic, question, when=\"1d\", num=10, top_k=10):\n",
    "    print(datetime.now())\n",
    "    print(f\"Topic: {topic} | Question: {question}\")\n",
    "    qna_set = {\n",
    "                    'question': question,\n",
    "                    'context': gather_news(topic, when=when, num=num)\n",
    "                   }\n",
    "    results = qna(qna_set, top_k=top_k)\n",
    "    \n",
    "    print()\n",
    "    \n",
    "    if top_k == 1:\n",
    "        results = [results]\n",
    "\n",
    "    i=0\n",
    "    for item in results:\n",
    "        i+=1\n",
    "        query = (topic+\" \"+item['answer']).translate(str.maketrans('','',string.punctuation)).replace(\" \", \"+\")\n",
    "        item.update( {\"numbering\":i, \"url\": f\"https://news.google.com/search?for={query}+when:{when}&hl=en\"})\n",
    "\n",
    "    for result in results:\n",
    "        print(f\"Rank: {result['numbering']}\\nAnswer: {result['answer']}\\nLikelihood: {round(result['score'],4)}\\n\")\n",
    "\n",
    "    return results\n",
    "\n",
    "anvil.server.wait_forever()"
   ]
  }
 ],
 "metadata": {
  "kernelspec": {
   "display_name": "Python 3",
   "language": "python",
   "name": "python3"
  },
  "language_info": {
   "codemirror_mode": {
    "name": "ipython",
    "version": 3
   },
   "file_extension": ".py",
   "mimetype": "text/x-python",
   "name": "python",
   "nbconvert_exporter": "python",
   "pygments_lexer": "ipython3",
   "version": "3.8.10"
  }
 },
 "nbformat": 4,
 "nbformat_minor": 5
}
